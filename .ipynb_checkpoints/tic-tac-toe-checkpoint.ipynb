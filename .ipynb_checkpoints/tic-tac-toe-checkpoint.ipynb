{
 "cells": [
  {
   "cell_type": "code",
   "execution_count": 1,
   "metadata": {},
   "outputs": [],
   "source": [
    "from IPython.display import clear_output\n",
    "\n",
    "def display_board(board):\n",
    "    \n",
    "    print(board[7] + \" | \" + board[8] + \" | \" + board[9] +\"  7 | 8 | 9 \")\n",
    "    print(\"--|---|--  --|---|--\")\n",
    "    print(board[4] + \" | \" + board[5] + \" | \" + board[6] +\"  4 | 5 | 6 \")\n",
    "    print(\"--|---|--  --|---|--\")\n",
    "    print(board[1] + \" | \" + board[2] + \" | \" + board[3] +\"  1 | 2 | 3 \")\n",
    "    \n",
    "    "
   ]
  },
  {
   "cell_type": "code",
   "execution_count": 2,
   "metadata": {},
   "outputs": [],
   "source": [
    "def player_input():\n",
    "    \n",
    "    marker = ''\n",
    "    player1 = ''\n",
    "    player2= ''\n",
    "    marker = input('Player, Enter X or O\\n')\n",
    "    \n",
    "    while marker != 'X' and marker!= 'O':\n",
    "        marker = input('Player, Enter X or O\\n')\n",
    "    player1 = marker\n",
    "    if player1 == 'X':\n",
    "        player2= 'O'\n",
    "    else:\n",
    "        player2= 'X'\n",
    "        \n",
    "    return (player1, player2)\n",
    "        \n",
    "    \n",
    "    player_input()"
   ]
  },
  {
   "cell_type": "code",
   "execution_count": 3,
   "metadata": {},
   "outputs": [],
   "source": [
    "import random\n",
    "\n",
    "def choose_first():\n",
    "    return (random.randint(1,2))\n"
   ]
  },
  {
   "cell_type": "code",
   "execution_count": 4,
   "metadata": {},
   "outputs": [],
   "source": [
    "def new_tb():\n",
    "    return [' ' , ' ' , ' ' , ' ' , ' ' , ' ' , ' ' , ' ' , ' ' , ' ']"
   ]
  },
  {
   "cell_type": "code",
   "execution_count": 5,
   "metadata": {},
   "outputs": [],
   "source": [
    "def win_check(board, mark):\n",
    "    #Horizontal\n",
    "    if board[1] == board[2] == board[3] ==mark or board[4] == board[5] == board[6]==mark or board[7] == board[8] == board[9]==mark or  board[1] == board[4] == board[7]==mark or board[2] == board[5] == board[8]==mark or board[3] == board[6] == board[9]==mark or board[1] == board[5] == board[9]==mark or board[3] == board[5] == board[7]==mark:\n",
    "            return True"
   ]
  },
  {
   "cell_type": "code",
   "execution_count": 6,
   "metadata": {},
   "outputs": [],
   "source": [
    "def space_check(board, position):\n",
    "    \n",
    "    return board[position] != ' '"
   ]
  },
  {
   "cell_type": "code",
   "execution_count": 7,
   "metadata": {},
   "outputs": [],
   "source": [
    "def full_board_check(board):\n",
    "    \n",
    "    for item in range(1,10):\n",
    "        if(board[item] != 'X' or board[item] != 'O'):\n",
    "            return False\n",
    "        else:\n",
    "            return True     "
   ]
  },
  {
   "cell_type": "code",
   "execution_count": 8,
   "metadata": {},
   "outputs": [],
   "source": [
    "def player_choice(board,mark):\n",
    "    \n",
    "    playerPosition = int(input('Enter Position '+mark+\"\\n\"))\n",
    "    while space_check(board,playerPosition) or playerPosition not in range(1,10):\n",
    "        playerPosition = int(input('Position not Available, Enter new Position\\n'))\n",
    "\n",
    "    else:\n",
    "        return playerPosition"
   ]
  },
  {
   "cell_type": "code",
   "execution_count": 9,
   "metadata": {},
   "outputs": [],
   "source": [
    "def replay():\n",
    "    playerReplay = input('Do You want to Play Again? <Yes>/<No>\\n')\n",
    "    \n",
    "    while playerReplay != 'Yes' or playerReplay != 'No':\n",
    "            playerReplay = input('Do You want to Play Again? <Yes>/<No>')\n",
    "    \n",
    "    if playerReplay is 'No':\n",
    "        return False\n",
    "    else:\n",
    "        return True"
   ]
  },
  {
   "cell_type": "code",
   "execution_count": null,
   "metadata": {},
   "outputs": [
    {
     "name": "stdout",
     "output_type": "stream",
     "text": [
      "Player, Enter X or O\n",
      "O\n",
      "player1,player2 \n",
      "('O', 'X')\n",
      "player1 playes first\n",
      "  |   |    7 | 8 | 9 \n",
      "--|---|--  --|---|--\n",
      "  |   |    4 | 5 | 6 \n",
      "--|---|--  --|---|--\n",
      "  |   |    1 | 2 | 3 \n",
      "Enter Position O\n",
      "5\n",
      "  |   |    7 | 8 | 9 \n",
      "--|---|--  --|---|--\n",
      "  | O |    4 | 5 | 6 \n",
      "--|---|--  --|---|--\n",
      "  |   |    1 | 2 | 3 \n",
      "Enter Position X\n",
      "4\n",
      "  |   |    7 | 8 | 9 \n",
      "--|---|--  --|---|--\n",
      "X | O |    4 | 5 | 6 \n",
      "--|---|--  --|---|--\n",
      "  |   |    1 | 2 | 3 \n",
      "Enter Position O\n",
      "6\n",
      "  |   |    7 | 8 | 9 \n",
      "--|---|--  --|---|--\n",
      "X | O | O  4 | 5 | 6 \n",
      "--|---|--  --|---|--\n",
      "  |   |    1 | 2 | 3 \n",
      "Enter Position X\n",
      "8\n",
      "  | X |    7 | 8 | 9 \n",
      "--|---|--  --|---|--\n",
      "X | O | O  4 | 5 | 6 \n",
      "--|---|--  --|---|--\n",
      "  |   |    1 | 2 | 3 \n",
      "Enter Position O\n",
      "2\n",
      "  | X |    7 | 8 | 9 \n",
      "--|---|--  --|---|--\n",
      "X | O | O  4 | 5 | 6 \n",
      "--|---|--  --|---|--\n",
      "  | O |    1 | 2 | 3 \n",
      "Enter Position X\n",
      "3\n",
      "  | X |    7 | 8 | 9 \n",
      "--|---|--  --|---|--\n",
      "X | O | O  4 | 5 | 6 \n",
      "--|---|--  --|---|--\n",
      "  | O | X  1 | 2 | 3 \n",
      "Enter Position O\n",
      "1\n",
      "  | X |    7 | 8 | 9 \n",
      "--|---|--  --|---|--\n",
      "X | O | O  4 | 5 | 6 \n",
      "--|---|--  --|---|--\n",
      "O | O | X  1 | 2 | 3 \n",
      "Enter Position X\n",
      "7\n",
      "X | X |    7 | 8 | 9 \n",
      "--|---|--  --|---|--\n",
      "X | O | O  4 | 5 | 6 \n",
      "--|---|--  --|---|--\n",
      "O | O | X  1 | 2 | 3 \n",
      "Enter Position O\n",
      "9\n",
      "X | X | O  7 | 8 | 9 \n",
      "--|---|--  --|---|--\n",
      "X | O | O  4 | 5 | 6 \n",
      "--|---|--  --|---|--\n",
      "O | O | X  1 | 2 | 3 \n",
      "player1 wins\n",
      "Do You want to Play Again? <Yes>/<No>\n",
      "No\n"
     ]
    }
   ],
   "source": [
    "tb = new_tb()\n",
    "(p1,p2) = player_input()\n",
    "print(\"player1,player2 \")\n",
    "print((p1,p2))\n",
    "choser = choose_first()\n",
    "print(\"player{} playes first\".format(choser))\n",
    "mark = p1 if choser == 1 else p2\n",
    "\n",
    "def play(mark,test_board,p1,p2):\n",
    "    display_board(test_board)\n",
    "    test_board[player_choice(test_board,mark)] = mark\n",
    "    if(win_check(test_board, mark) and not full_board_check(test_board)):\n",
    "        display_board(test_board)\n",
    "        print(\"player{} wins\".format(1 if mark == p1 else 2))\n",
    "        if replay():\n",
    "            tb = new_tb()\n",
    "            (p1,p2) = player_input()\n",
    "            print(\"player1,player2 \")\n",
    "            print((p1,p2))\n",
    "            choser = choose_first()\n",
    "            print(\"player{} playes first\".format(choser))\n",
    "            mark = p1 if choser == 1 else p2\n",
    "            play(mark,tb,p1,p2)\n",
    "        else:\n",
    "            return\n",
    "        \n",
    "    if(full_board_check(test_board)):\n",
    "        print(\"its a draw\")\n",
    "        if replay():\n",
    "            tb = new_tb()\n",
    "            (p1,p2) = player_input()\n",
    "            print(\"player1,player2 \")\n",
    "            print((p1,p2))\n",
    "            choser = choose_first()\n",
    "            print(\"player{} plays first\".format(choser))\n",
    "            mark = p1 if choser == 1 else p2\n",
    "            play(mark,tb,p1,p2)\n",
    "        else:\n",
    "            return\n",
    "        \n",
    "    mark = p1 if mark == p2 else p2\n",
    "    play(mark,test_board,p1,p2)\n",
    "    \n",
    "\n",
    "play(mark,tb,p1,p2)"
   ]
  },
  {
   "cell_type": "code",
   "execution_count": null,
   "metadata": {},
   "outputs": [],
   "source": []
  },
  {
   "cell_type": "code",
   "execution_count": null,
   "metadata": {},
   "outputs": [],
   "source": []
  }
 ],
 "metadata": {
  "kernelspec": {
   "display_name": "Python 3",
   "language": "python",
   "name": "python3"
  },
  "language_info": {
   "codemirror_mode": {
    "name": "ipython",
    "version": 3
   },
   "file_extension": ".py",
   "mimetype": "text/x-python",
   "name": "python",
   "nbconvert_exporter": "python",
   "pygments_lexer": "ipython3",
   "version": "3.7.6"
  }
 },
 "nbformat": 4,
 "nbformat_minor": 4
}
